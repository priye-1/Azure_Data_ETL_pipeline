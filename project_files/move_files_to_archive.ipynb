{
 "cells": [
  {
   "cell_type": "code",
   "execution_count": null,
   "metadata": {
    "application/vnd.databricks.v1+cell": {
     "cellMetadata": {},
     "inputWidgets": {},
     "nuid": "c89ccf80-39fa-4e08-ac3c-cedc96cbcf85",
     "showTitle": false,
     "title": ""
    }
   },
   "outputs": [],
   "source": [
    "# move files to archive\n",
    "\n",
    "container = [\"SourceA\", \"SourceB\"]\n",
    "for file_prefix in container:\n",
    "    file_list = dbutils.fs.ls(\"/mnt/landing\")\n",
    "    file_a = list(filter(lambda x: x[1] if x[1].startswith(file_prefix) else False, file_list))[0][1]\n",
    "    file_location_a = \"dbfs:/mnt/landing/\" + file_a\n",
    "    dbutils.fs.mv(file_location_a, \"dbfs:/mnt/archive\")"
   ]
  },
  {
   "cell_type": "markdown",
   "metadata": {},
   "source": []
  }
 ],
 "metadata": {
  "application/vnd.databricks.v1+notebook": {
   "dashboards": [],
   "language": "python",
   "notebookMetadata": {
    "pythonIndentUnit": 4
   },
   "notebookName": "Untitled Notebook 2023-04-29 23:26:18",
   "notebookOrigID": 323630220315204,
   "widgets": {}
  },
  "language_info": {
   "name": "python"
  }
 },
 "nbformat": 4,
 "nbformat_minor": 0
}
